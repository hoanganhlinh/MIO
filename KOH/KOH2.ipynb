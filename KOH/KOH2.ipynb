{
 "cells": [
  {
   "attachments": {},
   "cell_type": "markdown",
   "metadata": {},
   "source": [
    "# KOH2: Sieć Kohonena na siatce sześciokątnej\n",
    "## Laura Hoang, 313366\n",
    "\n",
    "Do implementacji z zeszłego tygodnia dodać możliwość ułożenia neuronów w topologii siatki sześciokątnej.\n",
    "\n",
    "Zastosować oba warianty topologii i obie funkcje sąsiedztwa do wektorów danych ze zbiorów\n",
    "- MNIST\n",
    "- https://archive.ics.uci.edu/ml/datasets/Human+Activity+Recognition+Using+Smartphones\n",
    "\n",
    "(sieć Kohonena uruchomić na zbiorach bez etykiet!).\n",
    "\n",
    "Przeanalizować otrzymane mapowanie danych uwzględniając etykiety danych. Jak dobrze znalezione klastry odpowiadają podziałowi na klasy?"
   ]
  },
  {
   "cell_type": "code",
   "execution_count": 1,
   "metadata": {},
   "outputs": [],
   "source": [
    "import numpy as np\n",
    "import pandas as pd\n",
    "from matplotlib import pyplot as plt\n",
    "from sklearn import metrics\n",
    "import math\n",
    "import tensorflow as tf"
   ]
  },
  {
   "attachments": {},
   "cell_type": "markdown",
   "metadata": {},
   "source": [
    "## Implementacja sieci"
   ]
  },
  {
   "cell_type": "code",
   "execution_count": 2,
   "metadata": {},
   "outputs": [],
   "source": [
    "class KohonenNetwork:\n",
    "    def __init__(self, N, M, dataset, neurons, t=1, method='gaussian', architecture = 'rectangle'):\n",
    "        '''\n",
    "        N, M - wymiary siatki\n",
    "        dataset - tabela danych\n",
    "        neurons - wagi\n",
    "        t - współczynnik wygaszania\n",
    "        method - funkcja sąsiedztwa (gaussowska lub Mexican Hat)\n",
    "        architecture - topologia siatki (prostokątna lub sześciokątna)\n",
    "        '''\n",
    "\n",
    "        self.N = N\n",
    "        self.M = M\n",
    "        self.dataset = dataset\n",
    "        self.neurons = neurons\n",
    "        self.t = t  # wcześniej width\n",
    "        \n",
    "        # if architecture == 'hexagon':\n",
    "        #     self.dist = self.dist_hex\n",
    "        # else:\n",
    "        #     self.dist = self.dist_squ\n",
    "        self.architecture = architecture\n",
    "        \n",
    "        if method == 'mexican':\n",
    "            self.method = self.mexican_hat\n",
    "        else:\n",
    "            self.method = self.gauss\n",
    "\n",
    "\n",
    "    def train(self, lambda_=100):\n",
    "        '''\n",
    "        lambda_ - liczba iteracji uczenia (liczba epoch)\n",
    "        '''\n",
    "\n",
    "        for epoch in range(lambda_):\n",
    "            p = np.random.permutation(len(self.dataset))\n",
    "            permuted = self.dataset[p]\n",
    "            \n",
    "            for x in permuted:\n",
    "                minimal_pos = np.argmin([np.linalg.norm(neuron-x) for neuron in self.neurons])   # najbliższy neuron\n",
    "\n",
    "                for i, neuron in enumerate(self.neurons):\n",
    "                    if self.architecture == 'hexagon':   # siatka szesciokątna\n",
    "                        # przesunięcia w siatce\n",
    "                        a = (i//self.M % 2) / 2\n",
    "                        b = (minimal_pos//self.M % 2) / 2\n",
    "                    else:   # siatka prostokątna\n",
    "                        a = 0\n",
    "                        b = 0\n",
    "                    self.neurons[i] = neuron + self.method(np.linalg.norm(np.array([i//self.M + a, i % self.M]) - np.array([minimal_pos//self.M + b,  minimal_pos % self.M])), self.t) * self.alpha_(epoch+1, lambda_) * (x-self.neurons[i])\n",
    "\n",
    "    def classify(self):\n",
    "        '''\n",
    "        Z wykorzystaniem normy euklidesowej.\n",
    "        '''\n",
    "        return [np.argmin([np.linalg.norm(neuron-x) for neuron in self.neurons]) for x in self.dataset]\n",
    "\n",
    "    # def limit_neurons(self, n):\n",
    "    #     while (len(self.neurons) > n):\n",
    "    #         distance = np.array([np.linalg.norm(i-j) for i in self.neurons for j in self.neurons])\n",
    "    #         distance = distance[distance!=0]\n",
    "    #         distance = distance.reshape(len(self.neurons),len(self.neurons)-1)\n",
    "    #         index = np.unravel_index(distance.argmin(), distance.shape)[0]\n",
    "    #         self.neurons = np.delete(self.neurons,index,0)\n",
    "\n",
    "\n",
    "    # @staticmethod\n",
    "    # def dist_rec(self, x, y):\n",
    "    #     a = x%self.N - y%self.N\n",
    "    #     b = math.floor(x/self.N)-math.floor(y/self.N)\n",
    "        \n",
    "    #     return self.width*math.sqrt(a**2 + b**2)\n",
    "    \n",
    "    # @staticmethod\n",
    "    # def dist_hex(self, x, y):\n",
    "    #     a = self.width*((x%self.N-y%self.N))\n",
    "    #     b = self.width*(math.floor(x/self.N)-math.floor(y/self.N))\n",
    "        \n",
    "    #     if (math.floor(x/self.N)-math.floor(y/self.N))%2==0: \n",
    "    #         a += 1/2\n",
    "    #     return math.sqrt(a**2 + b**2)\n",
    "\n",
    "    @staticmethod\n",
    "    def alpha_(epoch, lambda_):\n",
    "        return math.exp(-epoch/lambda_)\n",
    "\n",
    "    @staticmethod\n",
    "    def gauss(x, t):\n",
    "        return np.exp(-(x*t)**2)\n",
    "\n",
    "    @staticmethod\n",
    "    def mexican_hat(x, t):\n",
    "        return abs((1 - 2 * (x*t)**2 ) * 2 * t**2 * np.exp(-(x*t)**2))\n"
   ]
  },
  {
   "attachments": {},
   "cell_type": "markdown",
   "metadata": {},
   "source": [
    "## Miara skuteczności\n",
    "\n",
    "W celu oceny skuteczności modelu wykorzystana została metryka `v-measure`, określaną za pomocą wzoru:\n",
    "\n",
    "$v = (1 + \\beta) * homogeneity * completeness / (\\beta * homogeneity + completeness)$, gdzie $\\beta$ jest domyślnie równa 1, a *homogeneity* i *completeness* to również są metryki.\n",
    "\n",
    "Metryka ta jest niezależna od wartości bezwzględnych etykiet: permutacja wartości etykiet klasy lub klastra nie zmieni w żaden sposób wartości wyniku."
   ]
  },
  {
   "attachments": {},
   "cell_type": "markdown",
   "metadata": {},
   "source": [
    "## Zbiór danych **Human Activity Recognition Using Smartphones**"
   ]
  },
  {
   "cell_type": "code",
   "execution_count": 3,
   "metadata": {},
   "outputs": [
    {
     "name": "stdout",
     "output_type": "stream",
     "text": [
      "(7352, 561)\n",
      "(7352,)\n"
     ]
    }
   ],
   "source": [
    "x = np.asarray(pd.read_csv('X_train.txt', header=None, sep='\\s+'))\n",
    "y = pd.read_csv('y_train.txt', header=None, sep='\\s+')\n",
    "y = np.array(y).reshape(-1)\n",
    "\n",
    "print(x.shape)\n",
    "print(y.shape)"
   ]
  },
  {
   "cell_type": "code",
   "execution_count": 4,
   "metadata": {},
   "outputs": [
    {
     "data": {
      "text/plain": [
       "<BarContainer object of 6 artists>"
      ]
     },
     "execution_count": 4,
     "metadata": {},
     "output_type": "execute_result"
    },
    {
     "data": {
      "image/png": "[encoded data removed]",
      "text/plain": [
       "<Figure size 432x288 with 1 Axes>"
      ]
     },
     "metadata": {
      "needs_background": "light"
     },
     "output_type": "display_data"
    }
   ],
   "source": [
    "plt.bar(np.unique(y, return_counts=True)[0], np.unique(y, return_counts=True)[1], width=0.8, bottom=None, align='center')"
   ]
  },
  {
   "cell_type": "code",
   "execution_count": 5,
   "metadata": {},
   "outputs": [
    {
     "name": "stdout",
     "output_type": "stream",
     "text": [
      "rectangle-gaussian\trectangle-mexican\thexagon-gaussian\thexagon-mexican\n",
      "0.48156325749778256\t0.5901690016961084\t0.517057315799671\t0.4313296962449964\n"
     ]
    }
   ],
   "source": [
    "N, M = 2, 3\n",
    "architectures = ['rectangle', 'hexagon']\n",
    "methods = ['gaussian', 'mexican']\n",
    "\n",
    "labels = []\n",
    "v_measures = []\n",
    "y_pred_best = y\n",
    "\n",
    "for architecture in architectures:\n",
    "    for method in methods:\n",
    "        neurons = np.random.uniform(np.min(x), np.max(x), size=(N*M, x.shape[1]))\n",
    "        koh = KohonenNetwork(N, M , dataset=x, neurons=neurons, method=method, architecture=architecture)\n",
    "        koh.train(5)\n",
    "        # print('.')\n",
    "\n",
    "        labels += [architecture+'-'+method]\n",
    "        y_pred = koh.classify()\n",
    "\n",
    "        v_mes = metrics.v_measure_score(y, y_pred)\n",
    "        if v_mes > 0 or v_mes > max(v_measures):\n",
    "            y_pred_best = y_pred\n",
    "        v_measures += [v_mes]\n",
    "\n",
    "\n",
    "print(*labels, sep='\\t')\n",
    "print(*v_measures, sep='\\t')\n"
   ]
  },
  {
   "cell_type": "code",
   "execution_count": 6,
   "metadata": {},
   "outputs": [
    {
     "data": {
      "text/plain": [
       "<BarContainer object of 6 artists>"
      ]
     },
     "execution_count": 6,
     "metadata": {},
     "output_type": "execute_result"
    },
    {
     "data": {
      "image/png": "[encoded data removed]",
      "text/plain": [
       "<Figure size 720x288 with 2 Axes>"
      ]
     },
     "metadata": {
      "needs_background": "light"
     },
     "output_type": "display_data"
    }
   ],
   "source": [
    "fig, (ax1, ax2) = plt.subplots(1, 2)\n",
    "fig.suptitle('Predykcje vs. rzeczywiste wyniki')\n",
    "fig.set_size_inches(10,4)\n",
    "\n",
    "ax1.bar(np.unique(y_pred_best, return_counts=True)[0], np.unique(y_pred_best, return_counts=True)[1], width=0.8, bottom=None, align='center')\n",
    "ax2.bar(np.unique(y, return_counts=True)[0], np.unique(y, return_counts=True)[1], width=0.8, bottom=None, align='center')"
   ]
  },
  {
   "cell_type": "code",
   "execution_count": 7,
   "metadata": {},
   "outputs": [
    {
     "name": "stdout",
     "output_type": "stream",
     "text": [
      "rectangle-gaussian\trectangle-mexican\thexagon-gaussian\thexagon-mexican\n",
      "0.5328707592104202\t0.5424323851406193\t0.486148740159859\t0.4608730576234831\n"
     ]
    }
   ],
   "source": [
    "N, M = 4, 4\n",
    "architectures = ['rectangle', 'hexagon']\n",
    "methods = ['gaussian', 'mexican']\n",
    "\n",
    "labels = []\n",
    "v_measures = []\n",
    "y_pred_best = y\n",
    "\n",
    "for architecture in architectures:\n",
    "    for method in methods:\n",
    "        neurons = np.random.uniform(np.min(x), np.max(x), size=(N*M, x.shape[1]))\n",
    "        koh = KohonenNetwork(N, M , dataset=x, neurons=neurons, method=method, architecture=architecture)\n",
    "        koh.train(5)\n",
    "        # print('.')\n",
    "\n",
    "        labels += [architecture+'-'+method]\n",
    "        y_pred = koh.classify()\n",
    "\n",
    "        v_mes = metrics.v_measure_score(y, y_pred)\n",
    "        if v_mes > 0 or v_mes > max(v_measures):\n",
    "            y_pred_best = y_pred\n",
    "        v_measures += [v_mes]\n",
    "\n",
    "\n",
    "print(*labels, sep='\\t')\n",
    "print(*v_measures, sep='\\t')\n"
   ]
  },
  {
   "cell_type": "code",
   "execution_count": 8,
   "metadata": {},
   "outputs": [
    {
     "data": {
      "text/plain": [
       "<BarContainer object of 6 artists>"
      ]
     },
     "execution_count": 8,
     "metadata": {},
     "output_type": "execute_result"
    },
    {
     "data": {
      "image/png": "[encoded data removed]",
      "text/plain": [
       "<Figure size 720x288 with 2 Axes>"
      ]
     },
     "metadata": {
      "needs_background": "light"
     },
     "output_type": "display_data"
    }
   ],
   "source": [
    "fig, (ax1, ax2) = plt.subplots(1, 2)\n",
    "fig.suptitle('Predykcje vs. rzeczywiste wyniki')\n",
    "fig.set_size_inches(10,4)\n",
    "\n",
    "ax1.bar(np.unique(y_pred_best, return_counts=True)[0], np.unique(y_pred_best, return_counts=True)[1], width=0.8, bottom=None, align='center')\n",
    "ax2.bar(np.unique(y, return_counts=True)[0], np.unique(y, return_counts=True)[1], width=0.8, bottom=None, align='center')"
   ]
  },
  {
   "cell_type": "code",
   "execution_count": 9,
   "metadata": {},
   "outputs": [
    {
     "name": "stdout",
     "output_type": "stream",
     "text": [
      "rectangle-gaussian\trectangle-mexican\thexagon-gaussian\thexagon-mexican\n",
      "0.5002738903739296\t0.4793037500255952\t0.5078150171696526\t0.4850737725523863\n"
     ]
    }
   ],
   "source": [
    "N, M = 6, 6\n",
    "architectures = ['rectangle', 'hexagon']\n",
    "methods = ['gaussian', 'mexican']\n",
    "\n",
    "labels = []\n",
    "v_measures = []\n",
    "y_pred_best = y\n",
    "\n",
    "for architecture in architectures:\n",
    "    for method in methods:\n",
    "        neurons = np.random.uniform(np.min(x), np.max(x), size=(N*M, x.shape[1]))\n",
    "        koh = KohonenNetwork(N, M , dataset=x, neurons=neurons, method=method, architecture=architecture)\n",
    "        koh.train(5)\n",
    "        # print('.')\n",
    "\n",
    "        labels += [architecture+'-'+method]\n",
    "        y_pred = koh.classify()\n",
    "\n",
    "        v_mes = metrics.v_measure_score(y, y_pred)\n",
    "        if v_mes > 0 or v_mes > max(v_measures):\n",
    "            y_pred_best = y_pred\n",
    "        v_measures += [v_mes]\n",
    "\n",
    "\n",
    "print(*labels, sep='\\t')\n",
    "print(*v_measures, sep='\\t')"
   ]
  },
  {
   "cell_type": "code",
   "execution_count": 10,
   "metadata": {},
   "outputs": [
    {
     "data": {
      "text/plain": [
       "<BarContainer object of 6 artists>"
      ]
     },
     "execution_count": 10,
     "metadata": {},
     "output_type": "execute_result"
    },
    {
     "data": {
      "image/png": "[encoded data removed]",
      "text/plain": [
       "<Figure size 720x288 with 2 Axes>"
      ]
     },
     "metadata": {
      "needs_background": "light"
     },
     "output_type": "display_data"
    }
   ],
   "source": [
    "fig, (ax1, ax2) = plt.subplots(1, 2)\n",
    "fig.suptitle('Predykcje vs. rzeczywiste wyniki')\n",
    "fig.set_size_inches(10,4)\n",
    "\n",
    "ax1.bar(np.unique(y_pred_best, return_counts=True)[0], np.unique(y_pred_best, return_counts=True)[1], width=0.8, bottom=None, align='center')\n",
    "ax2.bar(np.unique(y, return_counts=True)[0], np.unique(y, return_counts=True)[1], width=0.8, bottom=None, align='center')"
   ]
  },
  {
   "attachments": {},
   "cell_type": "markdown",
   "metadata": {},
   "source": [
    "## Zbiór danych **MNIST** "
   ]
  },
  {
   "cell_type": "code",
   "execution_count": 11,
   "metadata": {},
   "outputs": [
    {
     "name": "stdout",
     "output_type": "stream",
     "text": [
      "(60000, 784)\n",
      "(60000,)\n"
     ]
    }
   ],
   "source": [
    "data = tf.keras.datasets.mnist.load_data(path='mnist.npz')\n",
    "\n",
    "x = data[0][0]\n",
    "x = x.reshape(x.shape[0], x.shape[1] * x.shape[2])\n",
    "y = data[0][1]\n",
    "y = np.array(y).reshape(-1)\n",
    "\n",
    "print(x.shape)\n",
    "print(y.shape)"
   ]
  },
  {
   "cell_type": "code",
   "execution_count": 12,
   "metadata": {},
   "outputs": [
    {
     "data": {
      "text/plain": [
       "<BarContainer object of 10 artists>"
      ]
     },
     "execution_count": 12,
     "metadata": {},
     "output_type": "execute_result"
    },
    {
     "data": {
      "image/png": "[encoded data removed]",
      "text/plain": [
       "<Figure size 720x288 with 1 Axes>"
      ]
     },
     "metadata": {
      "needs_background": "light"
     },
     "output_type": "display_data"
    }
   ],
   "source": [
    "plt.figure(figsize=(10,4))\n",
    "plt.bar(np.unique(y, return_counts=True)[0], np.unique(y, return_counts=True)[1], width=0.8, bottom=None, align='center')"
   ]
  },
  {
   "cell_type": "code",
   "execution_count": 13,
   "metadata": {},
   "outputs": [
    {
     "name": "stdout",
     "output_type": "stream",
     "text": [
      "rectangle-gaussian\trectangle-mexican\thexagon-gaussian\thexagon-mexican\n",
      "0.2940958880281172\t0.26185864962609984\t0.31929851132912485\t0.2526120442050857\n"
     ]
    }
   ],
   "source": [
    "N, M = 3, 3\n",
    "architectures = ['rectangle', 'hexagon']\n",
    "methods = ['gaussian', 'mexican']\n",
    "\n",
    "labels = []\n",
    "v_measures = []\n",
    "y_pred_best = y\n",
    "\n",
    "for architecture in architectures:\n",
    "    for method in methods:\n",
    "        neurons = np.random.uniform(np.min(x), np.max(x), size=(N*M, x.shape[1]))\n",
    "        koh = KohonenNetwork(N, M , dataset=x, neurons=neurons, method=method, architecture=architecture)\n",
    "        koh.train(5)\n",
    "        # print('.')\n",
    "\n",
    "        labels += [architecture+'-'+method]\n",
    "        y_pred = koh.classify()\n",
    "\n",
    "        v_mes = metrics.v_measure_score(y, y_pred)\n",
    "        if v_mes > 0 or v_mes > max(v_measures):\n",
    "            y_pred_best = y_pred\n",
    "        v_measures += [v_mes]\n",
    "\n",
    "\n",
    "print(*labels, sep='\\t')\n",
    "print(*v_measures, sep='\\t')\n"
   ]
  },
  {
   "cell_type": "code",
   "execution_count": 14,
   "metadata": {},
   "outputs": [
    {
     "data": {
      "text/plain": [
       "<BarContainer object of 10 artists>"
      ]
     },
     "execution_count": 14,
     "metadata": {},
     "output_type": "execute_result"
    },
    {
     "data": {
      "image/png": "[encoded data removed]",
      "text/plain": [
       "<Figure size 720x288 with 2 Axes>"
      ]
     },
     "metadata": {
      "needs_background": "light"
     },
     "output_type": "display_data"
    }
   ],
   "source": [
    "fig, (ax1, ax2) = plt.subplots(1, 2)\n",
    "fig.suptitle('Predykcje vs. rzeczywiste wyniki')\n",
    "fig.set_size_inches(10,4)\n",
    "\n",
    "ax1.bar(np.unique(y_pred_best, return_counts=True)[0], np.unique(y_pred_best, return_counts=True)[1], width=0.8, bottom=None, align='center')\n",
    "ax2.bar(np.unique(y, return_counts=True)[0], np.unique(y, return_counts=True)[1], width=0.8, bottom=None, align='center')"
   ]
  },
  {
   "cell_type": "code",
   "execution_count": 15,
   "metadata": {},
   "outputs": [
    {
     "name": "stdout",
     "output_type": "stream",
     "text": [
      "rectangle-gaussian\trectangle-mexican\thexagon-gaussian\thexagon-mexican\n",
      "0.3690792040644103\t0.2870764948376283\t0.34806679288324427\t0.2783542832968368\n"
     ]
    }
   ],
   "source": [
    "N, M = 4, 4\n",
    "architectures = ['rectangle', 'hexagon']\n",
    "methods = ['gaussian', 'mexican']\n",
    "\n",
    "labels = []\n",
    "v_measures = []\n",
    "y_pred_best = y\n",
    "\n",
    "for architecture in architectures:\n",
    "    for method in methods:\n",
    "        neurons = np.random.uniform(np.min(x), np.max(x), size=(N*M, x.shape[1]))\n",
    "        koh = KohonenNetwork(N, M , dataset=x, neurons=neurons, method=method, architecture=architecture)\n",
    "        koh.train(5)\n",
    "        # print('.')\n",
    "\n",
    "        labels += [architecture+'-'+method]\n",
    "        y_pred = koh.classify()\n",
    "\n",
    "        v_mes = metrics.v_measure_score(y, y_pred)\n",
    "        if v_mes > 0 or v_mes > max(v_measures):\n",
    "            y_pred_best = y_pred\n",
    "        v_measures += [v_mes]\n",
    "\n",
    "\n",
    "print(*labels, sep='\\t')\n",
    "print(*v_measures, sep='\\t')\n"
   ]
  },
  {
   "cell_type": "code",
   "execution_count": 16,
   "metadata": {},
   "outputs": [
    {
     "data": {
      "text/plain": [
       "<BarContainer object of 10 artists>"
      ]
     },
     "execution_count": 16,
     "metadata": {},
     "output_type": "execute_result"
    },
    {
     "data": {
      "image/png": "[encoded data removed]",
      "text/plain": [
       "<Figure size 720x288 with 2 Axes>"
      ]
     },
     "metadata": {
      "needs_background": "light"
     },
     "output_type": "display_data"
    }
   ],
   "source": [
    "fig, (ax1, ax2) = plt.subplots(1, 2)\n",
    "fig.suptitle('Predykcje vs. rzeczywiste wyniki')\n",
    "fig.set_size_inches(10,4)\n",
    "\n",
    "ax1.bar(np.unique(y_pred_best, return_counts=True)[0], np.unique(y_pred_best, return_counts=True)[1], width=0.8, bottom=None, align='center')\n",
    "ax2.bar(np.unique(y, return_counts=True)[0], np.unique(y, return_counts=True)[1], width=0.8, bottom=None, align='center')"
   ]
  },
  {
   "cell_type": "code",
   "execution_count": 17,
   "metadata": {},
   "outputs": [
    {
     "name": "stdout",
     "output_type": "stream",
     "text": [
      "rectangle-gaussian\trectangle-mexican\thexagon-gaussian\thexagon-mexican\n",
      "0.4441810353434264\t0.37346908939149087\t0.4315960854322604\t0.3661957490569095\n"
     ]
    }
   ],
   "source": [
    "N, M = 6, 6\n",
    "architectures = ['rectangle', 'hexagon']\n",
    "methods = ['gaussian', 'mexican']\n",
    "\n",
    "labels = []\n",
    "v_measures = []\n",
    "y_pred_best = y\n",
    "\n",
    "for architecture in architectures:\n",
    "    for method in methods:\n",
    "        neurons = np.random.uniform(np.min(x), np.max(x), size=(N*M, x.shape[1]))\n",
    "        koh = KohonenNetwork(N, M , dataset=x, neurons=neurons, method=method, architecture=architecture)\n",
    "        koh.train(5)\n",
    "        # print('.')\n",
    "\n",
    "        labels += [architecture+'-'+method]\n",
    "        y_pred = koh.classify()\n",
    "\n",
    "        v_mes = metrics.v_measure_score(y, y_pred)\n",
    "        if v_mes > 0 or v_mes > max(v_measures):\n",
    "            y_pred_best = y_pred\n",
    "        v_measures += [v_mes]\n",
    "\n",
    "\n",
    "print(*labels, sep='\\t')\n",
    "print(*v_measures, sep='\\t')"
   ]
  },
  {
   "cell_type": "code",
   "execution_count": 18,
   "metadata": {},
   "outputs": [
    {
     "data": {
      "text/plain": [
       "<BarContainer object of 10 artists>"
      ]
     },
     "execution_count": 18,
     "metadata": {},
     "output_type": "execute_result"
    },
    {
     "data": {
      "image/png": "[encoded data removed]",
      "text/plain": [
       "<Figure size 720x288 with 2 Axes>"
      ]
     },
     "metadata": {
      "needs_background": "light"
     },
     "output_type": "display_data"
    }
   ],
   "source": [
    "fig, (ax1, ax2) = plt.subplots(1, 2)\n",
    "fig.suptitle('Predykcje vs. rzeczywiste wyniki')\n",
    "fig.set_size_inches(10,4)\n",
    "\n",
    "ax1.bar(np.unique(y_pred_best, return_counts=True)[0], np.unique(y_pred_best, return_counts=True)[1], width=0.8, bottom=None, align='center')\n",
    "ax2.bar(np.unique(y, return_counts=True)[0], np.unique(y, return_counts=True)[1], width=0.8, bottom=None, align='center')"
   ]
  }
 ],
 "metadata": {
  "kernelspec": {
   "display_name": "Python 3",
   "language": "python",
   "name": "python3"
  },
  "language_info": {
   "codemirror_mode": {
    "name": "ipython",
    "version": 3
   },
   "file_extension": ".py",
   "mimetype": "text/x-python",
   "name": "python",
   "nbconvert_exporter": "python",
   "pygments_lexer": "ipython3",
   "version": "3.8.8"
  }
 },
 "nbformat": 4,
 "nbformat_minor": 4
}
